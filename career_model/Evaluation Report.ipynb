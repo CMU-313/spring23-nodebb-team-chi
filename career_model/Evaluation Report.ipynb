{
 "cells": [
  {
   "cell_type": "markdown",
   "id": "6182d99e",
   "metadata": {},
   "source": [
    "## Introduction (< 0.5 page)\n",
    "\n",
    "Provide a brief introduction to the model that you are evaluating, and the test dataset that you are using, and the context of use of the model.\n"
   ]
  },
  {
   "cell_type": "raw",
   "id": "ed39ec23",
   "metadata": {},
   "source": [
    "The model is a machine learning model for predicting whether a student applicant would be a good employee. The model uses random forest classifier as the predictor.\n",
    "\n",
    "The dataset we use to test the model is https://cmu-313.github.io/assets/project/student_data.csv. This dataset contains 500 student data, with information on Student ID, Gender, Age, Major, GPA, Extra Curricular, Num Programming Languages, Num Past Internships, and whether the student is a good application candidate.\n",
    "\n",
    "This model is used on NodeBB, an open-source community forum software project. This model is connected with the career page within NodeBB. Students can go to the careers page to find job opportunities and provide their information. At the sametime, recruiters can use this feature to view a prediction of a student applicant's likeliness to be a good employee to hire. "
   ]
  },
  {
   "cell_type": "markdown",
   "id": "17398206",
   "metadata": {},
   "source": [
    "## Model Performance (< 0.5 page)\n",
    "\n",
    "Provide the accuracy and confusion matrix of the model on the test dataset and a brief discussion on the performance of the model."
   ]
  },
  {
   "cell_type": "code",
   "execution_count": 2,
   "id": "d2201f14",
   "metadata": {},
   "outputs": [
    {
     "name": "stdout",
     "output_type": "stream",
     "text": [
      "Test accuracy is 0.8320\n"
     ]
    }
   ],
   "source": [
    "# Install a pip package in the current Jupyter kernel\n",
    "\n",
    "import pandas as pd\n",
    "import joblib\n",
    "from pydantic import BaseModel, Field\n",
    "from pydantic.tools import parse_obj_as\n",
    "\n",
    "test_dataset = pd.read_csv(\"https://cmu-313.github.io/assets/project/student_data.csv\")\n",
    "clf = joblib.load('./model.pkl')\n",
    "\n",
    "feature_cols = ['Student ID', 'Gender', 'Age', 'Major', 'GPA', 'Extra Curricular',\n",
    "       'Num Programming Languages', 'Num Past Internships']\n",
    "y_pred = clf.predict(test_dataset[feature_cols])\n",
    "y_pred = pd.Series(y_pred)\n",
    "y = test_dataset['Good Candidate']\n",
    "\n",
    "\n",
    "print(f\"Test accuracy is {(y==y_pred).sum()/y.size:.4f}\")"
   ]
  },
  {
   "cell_type": "code",
   "execution_count": 3,
   "id": "79100b11",
   "metadata": {},
   "outputs": [
    {
     "name": "stderr",
     "output_type": "stream",
     "text": [
      "Matplotlib created a temporary config/cache directory at /var/folders/c7/r0nx2srx14x1wcqf_7w83jvm0000gq/T/matplotlib-mownoify because the default path (/Users/chen/.matplotlib) is not a writable directory; it is highly recommended to set the MPLCONFIGDIR environment variable to a writable directory, in particular to speed up the import of Matplotlib and to better support multiprocessing.\n"
     ]
    },
    {
     "data": {
      "text/plain": [
       "<sklearn.metrics._plot.confusion_matrix.ConfusionMatrixDisplay at 0x106ada640>"
      ]
     },
     "execution_count": 3,
     "metadata": {},
     "output_type": "execute_result"
    },
    {
     "data": {
      "image/png": "[encoded data removed]",
      "text/plain": [
       "<Figure size 432x288 with 2 Axes>"
      ]
     },
     "metadata": {
      "needs_background": "light"
     },
     "output_type": "display_data"
    }
   ],
   "source": [
    "from sklearn import metrics\n",
    "confusion_matrix = metrics.confusion_matrix(y, y_pred)\n",
    "cm_display = metrics.ConfusionMatrixDisplay(confusion_matrix = confusion_matrix, display_labels = [False, True])\n",
    "cm_display.plot()"
   ]
  },
  {
   "cell_type": "markdown",
   "id": "eda13025",
   "metadata": {},
   "source": [
    "The model has a test accuracy of 0.8320, which means it correctly predicted the class labels for 83.20% of the test instances. However, the confusion matrix indicates that the model correctly classified 221 instances as class 0 and 195 instances as class 1. However, it incorrectly classified 42 instances of class 1 as class 0 (false negatives) and 42 instances of class 0 as class 1 (false positives)."
   ]
  },
  {
   "cell_type": "markdown",
   "id": "2895da4e",
   "metadata": {},
   "source": [
    "## Description of the test data (< 1 page)\n",
    "\n",
    "Provide descriptive statistics of the test dataset (e.g. mean, median, mode, standard deviation, etc.) for each feature, preferably in a table. You should also provide a brief discussion on the distribution of the features.\n"
   ]
  },
  {
   "cell_type": "code",
   "execution_count": 4,
   "id": "db221576",
   "metadata": {},
   "outputs": [
    {
     "data": {
      "text/html": [
       "<div>\n",
       "<style scoped>\n",
       "    .dataframe tbody tr th:only-of-type {\n",
       "        vertical-align: middle;\n",
       "    }\n",
       "\n",
       "    .dataframe tbody tr th {\n",
       "        vertical-align: top;\n",
       "    }\n",
       "\n",
       "    .dataframe thead th {\n",
       "        text-align: right;\n",
       "    }\n",
       "</style>\n",
       "<table border=\"1\" class=\"dataframe\">\n",
       "  <thead>\n",
       "    <tr style=\"text-align: right;\">\n",
       "      <th></th>\n",
       "      <th>Student ID</th>\n",
       "      <th>Age</th>\n",
       "      <th>GPA</th>\n",
       "      <th>Num Programming Languages</th>\n",
       "      <th>Num Past Internships</th>\n",
       "      <th>Good Candidate</th>\n",
       "    </tr>\n",
       "  </thead>\n",
       "  <tbody>\n",
       "    <tr>\n",
       "      <th>count</th>\n",
       "      <td>500.000000</td>\n",
       "      <td>500.000000</td>\n",
       "      <td>500.000000</td>\n",
       "      <td>500.00000</td>\n",
       "      <td>500.000000</td>\n",
       "      <td>500.000000</td>\n",
       "    </tr>\n",
       "    <tr>\n",
       "      <th>mean</th>\n",
       "      <td>249.500000</td>\n",
       "      <td>20.944000</td>\n",
       "      <td>2.905780</td>\n",
       "      <td>3.04600</td>\n",
       "      <td>2.052000</td>\n",
       "      <td>0.474000</td>\n",
       "    </tr>\n",
       "    <tr>\n",
       "      <th>std</th>\n",
       "      <td>144.481833</td>\n",
       "      <td>1.455025</td>\n",
       "      <td>0.839559</td>\n",
       "      <td>1.36073</td>\n",
       "      <td>1.407572</td>\n",
       "      <td>0.499824</td>\n",
       "    </tr>\n",
       "    <tr>\n",
       "      <th>min</th>\n",
       "      <td>0.000000</td>\n",
       "      <td>18.000000</td>\n",
       "      <td>0.000000</td>\n",
       "      <td>1.00000</td>\n",
       "      <td>0.000000</td>\n",
       "      <td>0.000000</td>\n",
       "    </tr>\n",
       "    <tr>\n",
       "      <th>25%</th>\n",
       "      <td>124.750000</td>\n",
       "      <td>20.000000</td>\n",
       "      <td>2.345000</td>\n",
       "      <td>2.00000</td>\n",
       "      <td>1.000000</td>\n",
       "      <td>0.000000</td>\n",
       "    </tr>\n",
       "    <tr>\n",
       "      <th>50%</th>\n",
       "      <td>249.500000</td>\n",
       "      <td>21.000000</td>\n",
       "      <td>2.990000</td>\n",
       "      <td>3.00000</td>\n",
       "      <td>2.000000</td>\n",
       "      <td>0.000000</td>\n",
       "    </tr>\n",
       "    <tr>\n",
       "      <th>75%</th>\n",
       "      <td>374.250000</td>\n",
       "      <td>22.000000</td>\n",
       "      <td>3.560000</td>\n",
       "      <td>4.00000</td>\n",
       "      <td>3.000000</td>\n",
       "      <td>1.000000</td>\n",
       "    </tr>\n",
       "    <tr>\n",
       "      <th>max</th>\n",
       "      <td>499.000000</td>\n",
       "      <td>25.000000</td>\n",
       "      <td>4.000000</td>\n",
       "      <td>5.00000</td>\n",
       "      <td>4.000000</td>\n",
       "      <td>1.000000</td>\n",
       "    </tr>\n",
       "  </tbody>\n",
       "</table>\n",
       "</div>"
      ],
      "text/plain": [
       "       Student ID         Age         GPA  Num Programming Languages  \\\n",
       "count  500.000000  500.000000  500.000000                  500.00000   \n",
       "mean   249.500000   20.944000    2.905780                    3.04600   \n",
       "std    144.481833    1.455025    0.839559                    1.36073   \n",
       "min      0.000000   18.000000    0.000000                    1.00000   \n",
       "25%    124.750000   20.000000    2.345000                    2.00000   \n",
       "50%    249.500000   21.000000    2.990000                    3.00000   \n",
       "75%    374.250000   22.000000    3.560000                    4.00000   \n",
       "max    499.000000   25.000000    4.000000                    5.00000   \n",
       "\n",
       "       Num Past Internships  Good Candidate  \n",
       "count            500.000000      500.000000  \n",
       "mean               2.052000        0.474000  \n",
       "std                1.407572        0.499824  \n",
       "min                0.000000        0.000000  \n",
       "25%                1.000000        0.000000  \n",
       "50%                2.000000        0.000000  \n",
       "75%                3.000000        1.000000  \n",
       "max                4.000000        1.000000  "
      ]
     },
     "execution_count": 4,
     "metadata": {},
     "output_type": "execute_result"
    }
   ],
   "source": [
    "test_dataset.describe()"
   ]
  },
  {
   "cell_type": "code",
   "execution_count": 14,
   "id": "60644c25",
   "metadata": {},
   "outputs": [
    {
     "name": "stdout",
     "output_type": "stream",
     "text": [
      "Mode of age is 21\n",
      "Mode of GPA is 4.0\n",
      "Mode of Num Programming Languages is 3\n",
      "Mode of Num Past Internships is 2\n"
     ]
    }
   ],
   "source": [
    "from statistics import mode\n",
    "print(\"Mode of age is % s\" % (mode(test_dataset['Age'])))\n",
    "print(\"Mode of GPA is % s\" % (mode(test_dataset['GPA'])))\n",
    "print(\"Mode of Num Programming Languages is % s\" % (mode(test_dataset['Num Programming Languages'])))\n",
    "print(\"Mode of Num Past Internships is % s\" % (mode(test_dataset['Num Past Internships'])))\n"
   ]
  },
  {
   "attachments": {},
   "cell_type": "markdown",
   "id": "10c2697f",
   "metadata": {},
   "source": [
    "### Discussion on the distribution of the features:\n",
    "\n",
    "**Student ID**: This is a unique identifier for each student in the dataset, ranging from 0 to 499.\n",
    "\n",
    "**Age**: This is a continuous variable representing the age of each student in years. The mean age is 20.944, with a standard deviation of 1.455. The minimum age in the dataset is 18, and the maximum age is 25. The median age is 21, and the mode is 21.\n",
    "\n",
    "**GPA**: This is a continuous variable representing the grade point average for each student. The mean GPA is 2.906, with a standard deviation of 0.840. The minimum GPA is 0, and the maximum GPA is 4. The median GPA is 2.99, and the mode is 4.0.\n",
    "\n",
    "**Num Programming Languages**: This is a discrete variable representing the number of programming languages that each student can use. The mean value is 3.046, with a standard deviation of 1.361. The minimum value is 1, and the maximum value is 5. The median value is 3, and the mode is 3.\n",
    "\n",
    "**Num Past Internships**: This is a discrete variable representing the number of past internships that each student has completed. The mean value is 2.052, with a standard deviation of 1.408. The minimum value is 0, and the maximum value is 4. The median value is 2, and the mode is 2.\n",
    "\n",
    "**Good Candidate**: This is a binary variable indicating whether or not each student is considered a good candidate for a job. The mean value is 0.474, indicating that slightly less than half of the students in the dataset are considered good candidates(labeled 1).\n",
    "\n",
    "**Major**: This is a categorical variable indicating the major of each student, it has values such as Math, Computer Science, Electrical and Computer Engineering, Business, Information Systems, and Statistics and Machine Learning. The major with most students is Math.\n",
    "\n",
    "**Extra Curricular**: This is a categorical variable indicating the extra curricular organizations, it has values such as Sorority, Fraternity, Teaching Assistant, Sports and academic clubs. The extracurricular activity with most students is Student Theatre."
   ]
  },
  {
   "cell_type": "markdown",
   "id": "9885295c",
   "metadata": {},
   "source": [
    "## Feature Exploration (< 1 page)\n",
    "Identify features that you think are important when it comes to evaluating the fairness of the model, and explain why.\n"
   ]
  },
  {
   "cell_type": "markdown",
   "id": "2292680d",
   "metadata": {},
   "source": [
    "## Fairness Evaluation (~ 1.5 page)\n",
    "\n",
    "Consider three fairness strategies that were discussed in class and then:\n",
    "- Provide the corresponding fairness metrics for the model (if applicable) based on the features you selected in step 4.\n",
    "- Determine whether the model is fair under each fairness strategy, and provide a brief discussion on why.\n",
    "- Determine which fairness strategy is the most appropriate for the model, given the context of what the model is used for. Provide a brief discussion on why."
   ]
  },
  {
   "cell_type": "markdown",
   "id": "49bd7642",
   "metadata": {},
   "source": [
    "## Recommendation (< 0.5 page)\n",
    "Make a recommendation on whether the model should be used in production, and provide a brief discussion on why.\n"
   ]
  }
 ],
 "metadata": {
  "kernelspec": {
   "display_name": "Python 3 (ipykernel)",
   "language": "python",
   "name": "python3"
  },
  "language_info": {
   "codemirror_mode": {
    "name": "ipython",
    "version": 3
   },
   "file_extension": ".py",
   "mimetype": "text/x-python",
   "name": "python",
   "nbconvert_exporter": "python",
   "pygments_lexer": "ipython3",
   "version": "3.9.12"
  }
 },
 "nbformat": 4,
 "nbformat_minor": 5
}
